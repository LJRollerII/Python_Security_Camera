{
 "cells": [
  {
   "cell_type": "code",
   "execution_count": null,
   "id": "a1a00d10",
   "metadata": {},
   "outputs": [],
   "source": [
    "import cv2\n",
    "import time\n",
    "import datetime\n",
    "\n",
    "#To access web camera and view video in python\n",
    "cap = cv2.VideoCapture(0) #Use number to indicate video camera/device if you mave multiple.\n",
    "\n",
    "while True:\n",
    "    _,frame = cap.read() #Underscore is a place holder. cap.read returns something else, but we only care about the frame.\n",
    "    \n",
    "    cv2.imshow(\"Camera\", frame)\n",
    "    \n",
    "    #if statement will quit the program\n",
    "    if cv2.waitKey(1) == ord('q'):\n",
    "        break\n",
    "\n",
    "# Let's write a code to relsease the camera once we're done using it.\n",
    "cap.release()\n",
    "cv2.destroyAllWindows()"
   ]
  },
  {
   "cell_type": "code",
   "execution_count": null,
   "id": "08c3e8d2",
   "metadata": {},
   "outputs": [],
   "source": []
  }
 ],
 "metadata": {
  "kernelspec": {
   "display_name": "Python 3 (ipykernel)",
   "language": "python",
   "name": "python3"
  },
  "language_info": {
   "codemirror_mode": {
    "name": "ipython",
    "version": 3
   },
   "file_extension": ".py",
   "mimetype": "text/x-python",
   "name": "python",
   "nbconvert_exporter": "python",
   "pygments_lexer": "ipython3",
   "version": "3.9.7"
  }
 },
 "nbformat": 4,
 "nbformat_minor": 5
}
